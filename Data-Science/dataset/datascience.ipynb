{
 "cells": [
  {
   "cell_type": "code",
   "execution_count": 5,
   "metadata": {},
   "outputs": [
    {
     "name": "stdout",
     "output_type": "stream",
     "text": [
      "Requirement already satisfied: pandas in c:\\users\\monishkumar\\appdata\\local\\programs\\python\\python39\\lib\\site-packages (2.2.2)\n",
      "Requirement already satisfied: numpy in c:\\users\\monishkumar\\appdata\\local\\programs\\python\\python39\\lib\\site-packages (2.0.2)\n",
      "Collecting matplotlib\n",
      "  Downloading matplotlib-3.9.2-cp39-cp39-win_amd64.whl (7.8 MB)\n",
      "     ---------------------------------------- 7.8/7.8 MB 2.1 MB/s eta 0:00:00\n",
      "Collecting seaborn\n",
      "  Downloading seaborn-0.13.2-py3-none-any.whl (294 kB)\n",
      "     -------------------------------------- 294.9/294.9 KB 3.6 MB/s eta 0:00:00\n",
      "Collecting scikit-learn\n",
      "  Downloading scikit_learn-1.5.2-cp39-cp39-win_amd64.whl (11.0 MB)\n",
      "     ---------------------------------------- 11.0/11.0 MB 3.7 MB/s eta 0:00:00\n",
      "Requirement already satisfied: python-dateutil>=2.8.2 in c:\\users\\monishkumar\\appdata\\local\\programs\\python\\python39\\lib\\site-packages (from pandas) (2.9.0.post0)\n",
      "Requirement already satisfied: tzdata>=2022.7 in c:\\users\\monishkumar\\appdata\\local\\programs\\python\\python39\\lib\\site-packages (from pandas) (2024.1)\n",
      "Requirement already satisfied: pytz>=2020.1 in c:\\users\\monishkumar\\appdata\\local\\programs\\python\\python39\\lib\\site-packages (from pandas) (2024.1)\n",
      "Collecting cycler>=0.10\n",
      "  Downloading cycler-0.12.1-py3-none-any.whl (8.3 kB)\n",
      "Collecting kiwisolver>=1.3.1\n",
      "  Downloading kiwisolver-1.4.7-cp39-cp39-win_amd64.whl (55 kB)\n",
      "     ---------------------------------------- 55.8/55.8 KB 2.9 MB/s eta 0:00:00\n",
      "Collecting pillow>=8\n",
      "  Downloading pillow-10.4.0-cp39-cp39-win_amd64.whl (2.6 MB)\n",
      "     ---------------------------------------- 2.6/2.6 MB 5.3 MB/s eta 0:00:00\n",
      "Collecting contourpy>=1.0.1\n",
      "  Downloading contourpy-1.3.0-cp39-cp39-win_amd64.whl (211 kB)\n",
      "     -------------------------------------- 211.8/211.8 KB 2.6 MB/s eta 0:00:00\n",
      "Collecting pyparsing>=2.3.1\n",
      "  Downloading pyparsing-3.1.4-py3-none-any.whl (104 kB)\n",
      "     -------------------------------------- 104.1/104.1 KB 5.9 MB/s eta 0:00:00\n",
      "Requirement already satisfied: packaging>=20.0 in c:\\users\\monishkumar\\appdata\\local\\programs\\python\\python39\\lib\\site-packages (from matplotlib) (24.1)\n",
      "Collecting importlib-resources>=3.2.0\n",
      "  Downloading importlib_resources-6.4.5-py3-none-any.whl (36 kB)\n",
      "Collecting fonttools>=4.22.0\n",
      "  Downloading fonttools-4.54.1-cp39-cp39-win_amd64.whl (2.2 MB)\n",
      "     ---------------------------------------- 2.2/2.2 MB 3.5 MB/s eta 0:00:00\n",
      "Collecting threadpoolctl>=3.1.0\n",
      "  Downloading threadpoolctl-3.5.0-py3-none-any.whl (18 kB)\n",
      "Collecting joblib>=1.2.0\n",
      "  Downloading joblib-1.4.2-py3-none-any.whl (301 kB)\n",
      "     -------------------------------------- 301.8/301.8 KB 2.3 MB/s eta 0:00:00\n",
      "Collecting scipy>=1.6.0\n",
      "  Downloading scipy-1.13.1-cp39-cp39-win_amd64.whl (46.2 MB)\n",
      "     ---------------------------------------- 46.2/46.2 MB 6.8 MB/s eta 0:00:00\n",
      "Requirement already satisfied: zipp>=3.1.0 in c:\\users\\monishkumar\\appdata\\local\\programs\\python\\python39\\lib\\site-packages (from importlib-resources>=3.2.0->matplotlib) (3.20.1)\n",
      "Requirement already satisfied: six>=1.5 in c:\\users\\monishkumar\\appdata\\local\\programs\\python\\python39\\lib\\site-packages (from python-dateutil>=2.8.2->pandas) (1.16.0)\n",
      "Installing collected packages: threadpoolctl, scipy, pyparsing, pillow, kiwisolver, joblib, importlib-resources, fonttools, cycler, contourpy, scikit-learn, matplotlib, seaborn\n",
      "Successfully installed contourpy-1.3.0 cycler-0.12.1 fonttools-4.54.1 importlib-resources-6.4.5 joblib-1.4.2 kiwisolver-1.4.7 matplotlib-3.9.2 pillow-10.4.0 pyparsing-3.1.4 scikit-learn-1.5.2 scipy-1.13.1 seaborn-0.13.2 threadpoolctl-3.5.0\n"
     ]
    },
    {
     "name": "stderr",
     "output_type": "stream",
     "text": [
      "WARNING: You are using pip version 22.0.4; however, version 24.2 is available.\n",
      "You should consider upgrading via the 'C:\\Users\\MonishKumar\\AppData\\Local\\Programs\\Python\\Python39\\python.exe -m pip install --upgrade pip' command.\n"
     ]
    }
   ],
   "source": [
    "! pip install pandas numpy matplotlib seaborn scikit-learn\n"
   ]
  },
  {
   "cell_type": "code",
   "execution_count": 6,
   "metadata": {},
   "outputs": [
    {
     "data": {
      "text/plain": [
       "(                                     id             name  \\\n",
       " 0  9bef853d-02f7-4f7c-8064-1aeaf1e359e4      Brian Lopez   \n",
       " 1  3c0cd2cf-796a-45d1-89aa-4a28216ffbaa  Cheryl Sandoval   \n",
       " 2  6a37a940-e66c-43b8-8ced-b7d9ff3166d8     Randy Ingram   \n",
       " 3  3e752c4b-14f3-4fc4-ad05-379b5058e7db      Mary Turner   \n",
       " 4  052acac7-9dec-4024-a85f-d41de192925c       Mary Davis   \n",
       " \n",
       "                         email        department                  role  \\\n",
       " 0  michaeljohnson@example.org  Data Engineering   Solution Consultant   \n",
       " 1       adamsjill@example.net      Data Science   Solution Consultant   \n",
       " 2       richard58@example.com  Data Engineering   Solution Consultant   \n",
       " 3          ksmith@example.net      Data Science  Sr Software Engineer   \n",
       " 4     ginafrancis@example.net  Data Engineering  Sr Software Engineer   \n",
       " \n",
       "              createdAt            updatedAt  \n",
       " 0  2012-03-31 22:20:04  1995-05-10 22:28:25  \n",
       " 1  2005-05-22 15:46:01  2019-03-24 14:48:11  \n",
       " 2  2003-05-11 18:28:13  2013-03-12 19:09:55  \n",
       " 3  2012-04-25 07:57:01  2000-01-27 14:23:06  \n",
       " 4  1983-06-26 03:59:19  1978-06-26 18:31:43  ,\n",
       "                                      id  \\\n",
       " 0  29a864a7-9bba-4e3b-9e70-aded2b9774c0   \n",
       " 1  37a132c7-2a2b-42d3-b31c-9bd1db4a60b5   \n",
       " 2  ab534a2b-5020-471a-9148-2fb07158d172   \n",
       " 3  dce4326d-7cc1-4f4a-ba1f-314739dfde55   \n",
       " 4  9441126d-76a1-4d60-ae1e-604e10dce1c1   \n",
       " \n",
       "                                        title  \\\n",
       " 0                  Realigned cohesive policy   \n",
       " 1        Streamlined 5thgeneration moderator   \n",
       " 2         Organized 4thgeneration time-frame   \n",
       " 3  Stand-alone bottom-line pricing structure   \n",
       " 4                Synergized mobile hierarchy   \n",
       " \n",
       "                                          description  \\\n",
       " 0  Drive floor finish author. Western of always s...   \n",
       " 1  Increase price call foot letter old article. S...   \n",
       " 2  Total decade law which sound site thank. Condi...   \n",
       " 3  Without employee majority. International new a...   \n",
       " 4  Because including political order fill hospita...   \n",
       " \n",
       "                            imageUrl  price  isPublished          author  \\\n",
       " 0       https://picsum.photos/583/2    0.0        False    Ralph Wright   \n",
       " 1      https://picsum.photos/58/317    0.0        False  William Arnold   \n",
       " 2    https://placekitten.com/988/83    0.0        False     Troy Holder   \n",
       " 3  https://placekitten.com/1006/500    0.0        False  Phillip Carter   \n",
       " 4     https://picsum.photos/832/401    0.0        False    Michael Diaz   \n",
       " \n",
       "                              categoryId            createdAt  \\\n",
       " 0  49fd9f6e-c588-4256-8421-5ce5bdcd19ef  1996-06-14 00:37:38   \n",
       " 1  152eb39b-953b-49a2-9216-5c3cfd9d6e8d  1974-07-22 08:52:28   \n",
       " 2  2b41facd-f492-4805-b67a-58b607510045  2019-12-17 08:54:06   \n",
       " 3  49fd9f6e-c588-4256-8421-5ce5bdcd19ef  2002-05-17 04:32:21   \n",
       " 4  916d0c63-7b5f-42da-8a0a-0dd2ae870662  2005-03-23 03:14:30   \n",
       " \n",
       "              updatedAt  \n",
       " 0  1972-06-15 20:34:08  \n",
       " 1  1974-04-07 23:36:15  \n",
       " 2  2000-10-10 00:57:45  \n",
       " 3  1981-07-09 03:40:00  \n",
       " 4  2002-06-17 18:32:36  ,\n",
       "                                      id                                userId  \\\n",
       " 0  dd5e7a3c-0b02-4ffc-a161-eff835f2ca0b  5abcfb12-338d-42ba-b1dd-53ef485d23d9   \n",
       " 1  26bfc443-50b3-4cb5-96aa-e15fbc76dcfa  efbb80ce-584e-4e02-8013-1ed8f39a6220   \n",
       " 2  55d9ff25-f0cd-468a-9479-8f63d86b6d09  74403a01-f895-4d75-8ccc-06163b6f379e   \n",
       " 3  37e6505b-ddb4-4bb6-8b9a-c92eae974e74  9a18e1a0-7043-4f7c-8df8-34b880879d1e   \n",
       " 4  965e6c81-6fa2-4aff-8062-036e10f1091c  9ded3e37-9efb-4224-9c12-37e59e3632d6   \n",
       " \n",
       "                               chapterId  isCompleted            createdAt  \\\n",
       " 0  0dc9d4d7-34b7-434c-81fd-e6bae3609187        False  1979-06-15 13:23:46   \n",
       " 1  596c02a5-47bb-4165-94e7-00f7146aa1db        False  2021-08-28 10:54:41   \n",
       " 2  301e52e5-9d20-4cbb-ac27-e5184ebc6a31         True  1989-04-23 05:57:54   \n",
       " 3  ca3fd55f-5d85-4c65-9fa6-5519f5b3542b        False  2005-06-27 21:44:18   \n",
       " 4  dddefe61-a6f6-4cf5-9b33-4b1e15341209        False  1983-09-29 21:39:13   \n",
       " \n",
       "              updatedAt  \n",
       " 0  1996-04-25 10:55:19  \n",
       " 1  1978-02-23 00:58:59  \n",
       " 2  1989-01-14 07:32:53  \n",
       " 3  1983-08-04 12:51:36  \n",
       " 4  1994-04-27 09:30:19  )"
      ]
     },
     "execution_count": 6,
     "metadata": {},
     "output_type": "execute_result"
    }
   ],
   "source": [
    "# Import necessary libraries\n",
    "import pandas as pd\n",
    "import numpy as np\n",
    "import matplotlib.pyplot as plt\n",
    "import seaborn as sns\n",
    "from sklearn.model_selection import train_test_split\n",
    "from sklearn.preprocessing import StandardScaler\n",
    "from sklearn.ensemble import RandomForestClassifier\n",
    "from sklearn.metrics import accuracy_score, classification_report, confusion_matrix\n",
    "\n",
    "# Load the CSV files generated from your dataset\n",
    "employees_df = pd.read_csv('employees.csv')\n",
    "courses_df = pd.read_csv('courses.csv')\n",
    "chapters_df = pd.read_csv('chapters.csv')\n",
    "user_progress_df = pd.read_csv('user_progress.csv')\n",
    "purchases_df = pd.read_csv('purchases.csv')\n",
    "feedback_df = pd.read_csv('feedback.csv')\n",
    "quiz_scores_df = pd.read_csv('quiz_scores.csv')\n",
    "discussions_df = pd.read_csv('discussions.csv')\n",
    "messages_df = pd.read_csv('messages.csv')\n",
    "\n",
    "# Display the structure of the data\n",
    "employees_df.head(), courses_df.head(), user_progress_df.head()\n"
   ]
  },
  {
   "cell_type": "code",
   "execution_count": 7,
   "metadata": {},
   "outputs": [],
   "source": [
    "# Convert date columns to datetime format\n",
    "for df in [employees_df, courses_df, user_progress_df, feedback_df, purchases_df, quiz_scores_df]:\n",
    "    df['createdAt'] = pd.to_datetime(df['createdAt'])\n",
    "    if 'updatedAt' in df.columns:\n",
    "        df['updatedAt'] = pd.to_datetime(df['updatedAt'])\n",
    "\n",
    "# Handle missing data if required\n",
    "employees_df.fillna(\"\", inplace=True)\n",
    "courses_df.fillna(\"\", inplace=True)\n",
    "feedback_df.fillna(0, inplace=True)\n"
   ]
  },
  {
   "cell_type": "code",
   "execution_count": 8,
   "metadata": {},
   "outputs": [
    {
     "data": {
      "text/html": [
       "<div>\n",
       "<style scoped>\n",
       "    .dataframe tbody tr th:only-of-type {\n",
       "        vertical-align: middle;\n",
       "    }\n",
       "\n",
       "    .dataframe tbody tr th {\n",
       "        vertical-align: top;\n",
       "    }\n",
       "\n",
       "    .dataframe thead th {\n",
       "        text-align: right;\n",
       "    }\n",
       "</style>\n",
       "<table border=\"1\" class=\"dataframe\">\n",
       "  <thead>\n",
       "    <tr style=\"text-align: right;\">\n",
       "      <th></th>\n",
       "      <th>userId</th>\n",
       "      <th>total_chapters</th>\n",
       "      <th>completed_chapters</th>\n",
       "      <th>completion_rate</th>\n",
       "      <th>avg_course_rating</th>\n",
       "      <th>avg_quiz_rating</th>\n",
       "      <th>avg_instructor_rating</th>\n",
       "      <th>avg_satisfaction</th>\n",
       "      <th>avg_quiz_score</th>\n",
       "      <th>total_attempts</th>\n",
       "    </tr>\n",
       "  </thead>\n",
       "  <tbody>\n",
       "    <tr>\n",
       "      <th>0</th>\n",
       "      <td>0234fe90-722e-4605-b033-c2a659a48ff2</td>\n",
       "      <td>178</td>\n",
       "      <td>95</td>\n",
       "      <td>53.370787</td>\n",
       "      <td>2.770492</td>\n",
       "      <td>3.000000</td>\n",
       "      <td>3.032787</td>\n",
       "      <td>3.049180</td>\n",
       "      <td>50.333333</td>\n",
       "      <td>177</td>\n",
       "    </tr>\n",
       "    <tr>\n",
       "      <th>1</th>\n",
       "      <td>02a6ecfa-a060-4ee6-8f71-54ed61ca5569</td>\n",
       "      <td>183</td>\n",
       "      <td>90</td>\n",
       "      <td>49.180328</td>\n",
       "      <td>3.076923</td>\n",
       "      <td>3.038462</td>\n",
       "      <td>3.403846</td>\n",
       "      <td>3.153846</td>\n",
       "      <td>50.931034</td>\n",
       "      <td>171</td>\n",
       "    </tr>\n",
       "    <tr>\n",
       "      <th>2</th>\n",
       "      <td>034c6bec-1848-4adc-a7b8-47ed28382940</td>\n",
       "      <td>168</td>\n",
       "      <td>93</td>\n",
       "      <td>55.357143</td>\n",
       "      <td>3.156863</td>\n",
       "      <td>3.333333</td>\n",
       "      <td>3.039216</td>\n",
       "      <td>2.980392</td>\n",
       "      <td>46.375000</td>\n",
       "      <td>155</td>\n",
       "    </tr>\n",
       "    <tr>\n",
       "      <th>3</th>\n",
       "      <td>03a43572-f397-4c5a-8cfa-66d95a3ba56a</td>\n",
       "      <td>199</td>\n",
       "      <td>111</td>\n",
       "      <td>55.778894</td>\n",
       "      <td>3.083333</td>\n",
       "      <td>2.708333</td>\n",
       "      <td>2.722222</td>\n",
       "      <td>2.986111</td>\n",
       "      <td>44.851852</td>\n",
       "      <td>152</td>\n",
       "    </tr>\n",
       "    <tr>\n",
       "      <th>4</th>\n",
       "      <td>03a9a93c-7444-4400-b24d-e2653ddee7d8</td>\n",
       "      <td>187</td>\n",
       "      <td>86</td>\n",
       "      <td>45.989305</td>\n",
       "      <td>3.096154</td>\n",
       "      <td>2.673077</td>\n",
       "      <td>3.057692</td>\n",
       "      <td>2.865385</td>\n",
       "      <td>49.118644</td>\n",
       "      <td>166</td>\n",
       "    </tr>\n",
       "  </tbody>\n",
       "</table>\n",
       "</div>"
      ],
      "text/plain": [
       "                                 userId  total_chapters  completed_chapters  \\\n",
       "0  0234fe90-722e-4605-b033-c2a659a48ff2             178                  95   \n",
       "1  02a6ecfa-a060-4ee6-8f71-54ed61ca5569             183                  90   \n",
       "2  034c6bec-1848-4adc-a7b8-47ed28382940             168                  93   \n",
       "3  03a43572-f397-4c5a-8cfa-66d95a3ba56a             199                 111   \n",
       "4  03a9a93c-7444-4400-b24d-e2653ddee7d8             187                  86   \n",
       "\n",
       "   completion_rate  avg_course_rating  avg_quiz_rating  avg_instructor_rating  \\\n",
       "0        53.370787           2.770492         3.000000               3.032787   \n",
       "1        49.180328           3.076923         3.038462               3.403846   \n",
       "2        55.357143           3.156863         3.333333               3.039216   \n",
       "3        55.778894           3.083333         2.708333               2.722222   \n",
       "4        45.989305           3.096154         2.673077               3.057692   \n",
       "\n",
       "   avg_satisfaction  avg_quiz_score  total_attempts  \n",
       "0          3.049180       50.333333             177  \n",
       "1          3.153846       50.931034             171  \n",
       "2          2.980392       46.375000             155  \n",
       "3          2.986111       44.851852             152  \n",
       "4          2.865385       49.118644             166  "
      ]
     },
     "execution_count": 8,
     "metadata": {},
     "output_type": "execute_result"
    }
   ],
   "source": [
    "# Feature engineering: create engagement metrics from user_progress, feedback, and quiz_scores\n",
    "\n",
    "# Aggregate data for engagement metrics\n",
    "progress_summary = user_progress_df.groupby('userId').agg(total_chapters=('chapterId', 'count'),\n",
    "                                                         completed_chapters=('isCompleted', 'sum')).reset_index()\n",
    "\n",
    "# Add the engagement percentage\n",
    "progress_summary['completion_rate'] = (progress_summary['completed_chapters'] / progress_summary['total_chapters']) * 100\n",
    "\n",
    "# Aggregate feedback data for satisfaction metrics\n",
    "feedback_summary = feedback_df.groupby('userId').agg(avg_course_rating=('courseRating', 'mean'),\n",
    "                                                     avg_quiz_rating=('quizRating', 'mean'),\n",
    "                                                     avg_instructor_rating=('instructorRating', 'mean'),\n",
    "                                                     avg_satisfaction=('satisfaction', 'mean')).reset_index()\n",
    "\n",
    "# Aggregate quiz scores\n",
    "quiz_summary = quiz_scores_df.groupby('userId').agg(avg_quiz_score=('score', 'mean'),\n",
    "                                                    total_attempts=('attempt', 'sum')).reset_index()\n",
    "\n",
    "# Merge dataframes for a consolidated view\n",
    "engagement_df = pd.merge(progress_summary, feedback_summary, on='userId', how='left')\n",
    "engagement_df = pd.merge(engagement_df, quiz_summary, on='userId', how='left')\n",
    "\n",
    "# Display the engagement data\n",
    "engagement_df.head()\n"
   ]
  },
  {
   "cell_type": "code",
   "execution_count": 16,
   "metadata": {},
   "outputs": [],
   "source": [
    "engagement_df.to_csv('D:/final-project/eealb-v2/Ds-finalproj/dataset/engagemant.csv')"
   ]
  },
  {
   "cell_type": "code",
   "execution_count": 9,
   "metadata": {},
   "outputs": [
    {
     "data": {
      "text/plain": [
       "engagement_label\n",
       "1    276\n",
       "0    224\n",
       "Name: count, dtype: int64"
      ]
     },
     "execution_count": 9,
     "metadata": {},
     "output_type": "execute_result"
    }
   ],
   "source": [
    "# Set a threshold to classify engagement levels (1: High, 0: Low)\n",
    "engagement_df['engagement_label'] = np.where(engagement_df['completion_rate'] > 50, 1, 0)\n",
    "\n",
    "# Fill missing values in engagement metrics\n",
    "engagement_df.fillna(0, inplace=True)\n",
    "\n",
    "# Display the label distribution\n",
    "engagement_df['engagement_label'].value_counts()\n"
   ]
  },
  {
   "cell_type": "code",
   "execution_count": 20,
   "metadata": {},
   "outputs": [
    {
     "name": "stdout",
     "output_type": "stream",
     "text": [
      "     total_chapters  completed_chapters  completion_rate  avg_course_rating  \\\n",
      "249             176                  94        53.409091           3.225806   \n",
      "433             169                  80        47.337278           3.000000   \n",
      "19              179                 100        55.865922           2.766667   \n",
      "322             185                  92        49.729730           2.893939   \n",
      "332             204                  95        46.568627           3.403226   \n",
      "..              ...                 ...              ...                ...   \n",
      "106             173                  82        47.398844           2.921569   \n",
      "270             204                  95        46.568627           3.255319   \n",
      "348             195                  91        46.666667           3.063492   \n",
      "435             170                  91        53.529412           3.323944   \n",
      "102             185                  89        48.108108           3.338710   \n",
      "\n",
      "     avg_quiz_rating  avg_instructor_rating  avg_satisfaction  avg_quiz_score  \\\n",
      "249         3.209677               3.145161          3.000000       55.031250   \n",
      "433         3.109375               2.875000          3.140625       52.018868   \n",
      "19          3.316667               3.100000          3.483333       48.492308   \n",
      "322         2.727273               3.303030          2.545455       44.524590   \n",
      "332         3.241935               2.935484          3.322581       50.094340   \n",
      "..               ...                    ...               ...             ...   \n",
      "106         3.117647               3.156863          3.196078       46.707692   \n",
      "270         2.638298               2.808511          2.765957       45.848485   \n",
      "348         3.047619               2.968254          3.158730       43.950000   \n",
      "435         2.746479               3.070423          2.957746       44.397059   \n",
      "102         2.838710               2.774194          2.967742       48.415385   \n",
      "\n",
      "     total_attempts  \n",
      "249             202  \n",
      "433             168  \n",
      "19              200  \n",
      "322             205  \n",
      "332             168  \n",
      "..              ...  \n",
      "106             213  \n",
      "270             208  \n",
      "348             162  \n",
      "435             213  \n",
      "102             180  \n",
      "\n",
      "[400 rows x 9 columns]\n"
     ]
    }
   ],
   "source": [
    "# Features and target\n",
    "X = engagement_df.drop(columns=['userId', 'engagement_label'])\n",
    "y = engagement_df['engagement_label']\n",
    "\n",
    "# Split the data into training and testing sets (80-20 split)\n",
    "X_train, X_test, y_train, y_test = train_test_split(X, y, test_size=0.2, random_state=42)\n",
    "print(X_train)\n",
    "# Normalize/Standardize the features\n",
    "scaler = StandardScaler()\n",
    "X_train_scaled = scaler.fit_transform(X_train)\n",
    "X_test_scaled = scaler.transform(X_test)\n"
   ]
  },
  {
   "cell_type": "code",
   "execution_count": 11,
   "metadata": {},
   "outputs": [
    {
     "name": "stdout",
     "output_type": "stream",
     "text": [
      "Accuracy: 100.00%\n",
      "              precision    recall  f1-score   support\n",
      "\n",
      "           0       1.00      1.00      1.00        47\n",
      "           1       1.00      1.00      1.00        53\n",
      "\n",
      "    accuracy                           1.00       100\n",
      "   macro avg       1.00      1.00      1.00       100\n",
      "weighted avg       1.00      1.00      1.00       100\n",
      "\n"
     ]
    }
   ],
   "source": [
    "# Train a RandomForest classifier\n",
    "rf_classifier = RandomForestClassifier(n_estimators=100, random_state=42)\n",
    "rf_classifier.fit(X_train_scaled, y_train)\n",
    "\n",
    "# Make predictions\n",
    "y_pred = rf_classifier.predict(X_test_scaled)\n",
    "\n",
    "# Display accuracy\n",
    "accuracy = accuracy_score(y_test, y_pred)\n",
    "print(f'Accuracy: {accuracy * 100:.2f}%')\n",
    "\n",
    "# Display classification report\n",
    "print(classification_report(y_test, y_pred))\n"
   ]
  },
  {
   "cell_type": "code",
   "execution_count": 12,
   "metadata": {},
   "outputs": [
    {
     "data": {
      "image/png": "[encoded data removed]",
      "text/plain": [
       "<Figure size 800x600 with 2 Axes>"
      ]
     },
     "metadata": {},
     "output_type": "display_data"
    }
   ],
   "source": [
    "# Confusion matrix to evaluate model performance\n",
    "cm = confusion_matrix(y_test, y_pred)\n",
    "plt.figure(figsize=(8, 6))\n",
    "sns.heatmap(cm, annot=True, fmt='d', cmap='Blues', xticklabels=['Low Engagement', 'High Engagement'], yticklabels=['Low Engagement', 'High Engagement'])\n",
    "plt.xlabel('Predicted')\n",
    "plt.ylabel('Actual')\n",
    "plt.title('Confusion Matrix')\n",
    "plt.show()\n"
   ]
  },
  {
   "cell_type": "code",
   "execution_count": 24,
   "metadata": {},
   "outputs": [
    {
     "data": {
      "text/plain": [
       "array([1])"
      ]
     },
     "execution_count": 24,
     "metadata": {},
     "output_type": "execute_result"
    }
   ],
   "source": [
    "test=[[10,5,50.0,3.5,2.0,3.9756,4.13,33.98762464,3]]\n",
    "test=scaler.fit_transform(test)\n",
    "y_pred = rf_classifier.predict(test)\n",
    "y_pred"
   ]
  },
  {
   "cell_type": "code",
   "execution_count": 13,
   "metadata": {},
   "outputs": [
    {
     "name": "stdout",
     "output_type": "stream",
     "text": [
      "Model saved for future predictions.\n"
     ]
    }
   ],
   "source": [
    "# Based on the results, we can fine-tune the model further, experiment with other algorithms (e.g., Gradient Boosting),\n",
    "# or explore hyperparameter tuning with Random Forest to improve performance.\n",
    "\n",
    "# Save the final model (optional, if you plan to use it for deployment)\n",
    "import joblib\n",
    "joblib.dump(rf_classifier, 'employee_engagement_model.pkl')\n",
    "\n",
    "print(\"Model saved for future predictions.\")\n"
   ]
  },
  {
   "cell_type": "code",
   "execution_count": 41,
   "metadata": {},
   "outputs": [
    {
     "name": "stdout",
     "output_type": "stream",
     "text": [
      "        total_chapters  completed_chapters  completion_rate  \\\n",
      "0                  465                   7             1.51   \n",
      "1                  176                  93            52.84   \n",
      "2                  291                 187            64.26   \n",
      "3                   77                  51            66.23   \n",
      "4                  141                  93            65.96   \n",
      "...                ...                 ...              ...   \n",
      "999995             463                 275            59.40   \n",
      "999996             462                  30             6.49   \n",
      "999997             204                 116            56.86   \n",
      "999998             422                 361            85.55   \n",
      "999999              33                  16            48.48   \n",
      "\n",
      "        avg_course_rating  avg_quiz_rating  avg_instructor_rating  \\\n",
      "0                    3.01             3.14                   1.73   \n",
      "1                    1.42             4.83                   2.12   \n",
      "2                    4.63             4.50                   4.12   \n",
      "3                    2.76             4.39                   4.89   \n",
      "4                    4.74             3.30                   3.87   \n",
      "...                   ...              ...                    ...   \n",
      "999995               3.60             4.29                   4.09   \n",
      "999996               2.65             1.14                   3.86   \n",
      "999997               2.62             3.74                   4.15   \n",
      "999998               4.04             2.59                   4.51   \n",
      "999999               3.35             2.45                   4.03   \n",
      "\n",
      "        avg_satisfaction  avg_quiz_score  total_attempts  label  \n",
      "0                   4.66           45.45               6      0  \n",
      "1                   4.57           47.94               1      0  \n",
      "2                   3.64           22.95               4      0  \n",
      "3                   2.49           94.08               9      0  \n",
      "4                   1.66           47.47               6      0  \n",
      "...                  ...             ...             ...    ...  \n",
      "999995              1.81           32.69               6      0  \n",
      "999996              3.87           30.54               9      0  \n",
      "999997              4.46           76.51               8      0  \n",
      "999998              1.49           79.87               2      0  \n",
      "999999              1.01           81.24              10      0  \n",
      "\n",
      "[1000000 rows x 10 columns]\n"
     ]
    }
   ],
   "source": [
    "import random\n",
    "\n",
    "# Function to generate random data for each row\n",
    "def generate_fake_data(num_rows):\n",
    "    data = []\n",
    "    for _ in range(num_rows):\n",
    "        total_chapters = random.randint(5, 500)  # Total chapters (between 5 and 15)\n",
    "        completed_chapters = random.randint(0, total_chapters)  # Completed chapters\n",
    "        completion_rate = round((completed_chapters / total_chapters) * 100, 2) if total_chapters != 0 else 0\n",
    "        \n",
    "        avg_course_rating = round(random.uniform(1.0, 5.0), 2)  # Average course rating (1 to 5)\n",
    "        avg_quiz_rating = round(random.uniform(1.0, 5.0), 2)  # Average quiz rating (1 to 5)\n",
    "        avg_instructor_rating = round(random.uniform(1.0, 5.0), 2)  # Average instructor rating (1 to 5)\n",
    "        avg_satisfaction = round(random.uniform(1.0, 5.0), 2)  # Average satisfaction (1 to 5)\n",
    "        \n",
    "        avg_quiz_score = round(random.uniform(20.0, 100.0), 2)  # Average quiz score (20 to 100)\n",
    "        total_attempts = random.randint(1, 10)  # Total quiz attempts (1 to 10)\n",
    "        label = 1 if completion_rate > 70 and avg_satisfaction > 3 else 0\n",
    "        \n",
    "        data.append([\n",
    "            total_chapters,\n",
    "            completed_chapters,\n",
    "            completion_rate,\n",
    "            avg_course_rating,\n",
    "            avg_quiz_rating,\n",
    "            avg_instructor_rating,\n",
    "            avg_satisfaction,\n",
    "            avg_quiz_score,\n",
    "            total_attempts,\n",
    "            label\n",
    "        ])\n",
    "    \n",
    "    return data\n",
    "\n",
    "# Generate 10 rows of fake data\n",
    "fake_data = generate_fake_data(1000000)\n",
    "columns = ['total_chapters', 'completed_chapters', 'completion_rate', 'avg_course_rating', 'avg_quiz_rating', 'avg_instructor_rating', 'avg_satisfaction', 'avg_quiz_score', 'total_attempts', 'label']\n",
    "df_with_labels = pd.DataFrame(fake_data, columns=columns)\n",
    "\n",
    "# Display the fake data with labels\n",
    "print(df_with_labels)\n",
    "\n"
   ]
  },
  {
   "cell_type": "code",
   "execution_count": 42,
   "metadata": {},
   "outputs": [],
   "source": [
    "X = df_with_labels.drop(columns=['label'])\n",
    "y = df_with_labels['label']"
   ]
  },
  {
   "cell_type": "code",
   "execution_count": 43,
   "metadata": {},
   "outputs": [
    {
     "data": {
      "text/plain": [
       "array([0, 1, 1, ..., 1, 1, 1])"
      ]
     },
     "execution_count": 43,
     "metadata": {},
     "output_type": "execute_result"
    }
   ],
   "source": [
    "\n",
    "test=scaler.fit_transform(X)\n",
    "y_pred = rf_classifier.predict(test)\n",
    "y_pred"
   ]
  },
  {
   "cell_type": "code",
   "execution_count": 44,
   "metadata": {},
   "outputs": [
    {
     "name": "stdout",
     "output_type": "stream",
     "text": [
      "Accuracy: 62.36%\n",
      "              precision    recall  f1-score   support\n",
      "\n",
      "           0       1.00      0.56      0.72    849514\n",
      "           1       0.29      1.00      0.44    150486\n",
      "\n",
      "    accuracy                           0.62   1000000\n",
      "   macro avg       0.64      0.78      0.58   1000000\n",
      "weighted avg       0.89      0.62      0.67   1000000\n",
      "\n"
     ]
    }
   ],
   "source": [
    "accuracy = accuracy_score(y, y_pred)\n",
    "print(f'Accuracy: {accuracy * 100:.2f}%')\n",
    "\n",
    "# Display classification report\n",
    "print(classification_report(y, y_pred))"
   ]
  },
  {
   "cell_type": "code",
   "execution_count": 45,
   "metadata": {},
   "outputs": [
    {
     "data": {
      "image/png": "[encoded data removed]",
      "text/plain": [
       "<Figure size 800x600 with 2 Axes>"
      ]
     },
     "metadata": {},
     "output_type": "display_data"
    }
   ],
   "source": [
    "cm = confusion_matrix(y, y_pred)\n",
    "plt.figure(figsize=(8, 6))\n",
    "sns.heatmap(cm, annot=True, fmt='d', cmap='Blues', xticklabels=['Low Engagement', 'High Engagement'], yticklabels=['Low Engagement', 'High Engagement'])\n",
    "plt.xlabel('Predicted')\n",
    "plt.ylabel('Actual')\n",
    "plt.title('Confusion Matrix')\n",
    "plt.show()"
   ]
  },
  {
   "cell_type": "code",
   "execution_count": null,
   "metadata": {},
   "outputs": [],
   "source": []
  }
 ],
 "metadata": {
  "kernelspec": {
   "display_name": "Python 3",
   "language": "python",
   "name": "python3"
  },
  "language_info": {
   "codemirror_mode": {
    "name": "ipython",
    "version": 3
   },
   "file_extension": ".py",
   "mimetype": "text/x-python",
   "name": "python",
   "nbconvert_exporter": "python",
   "pygments_lexer": "ipython3",
   "version": "3.9.13"
  }
 },
 "nbformat": 4,
 "nbformat_minor": 2
}
